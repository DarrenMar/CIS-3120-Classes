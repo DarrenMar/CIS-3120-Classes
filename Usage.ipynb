{
 "cells": [
  {
   "cell_type": "code",
   "execution_count": 1,
   "id": "6b88b4bc-a5c4-436d-9eed-8e95600f6d53",
   "metadata": {
    "editable": true,
    "slideshow": {
     "slide_type": ""
    },
    "tags": []
   },
   "outputs": [],
   "source": [
    "from Animal import Animal"
   ]
  },
  {
   "cell_type": "code",
   "execution_count": 2,
   "id": "738a52e3-faf1-4f92-8835-fed5b5e36dfe",
   "metadata": {
    "editable": true,
    "slideshow": {
     "slide_type": ""
    },
    "tags": []
   },
   "outputs": [
    {
     "name": "stdout",
     "output_type": "stream",
     "text": [
      "Hi, my name is Joey and I am a Kangaroo!\n",
      "Joey is snoring.\n",
      "Joey is sleeping. Current energy level: 100/100\n",
      "Joey is running. Energy level: 75/100\n",
      "Joey is jumping. Energy level: 30/100\n",
      "Joey is eating. New energy level: 90/100\n",
      "Joey is drinking coffee. Joey is now 100/100 full of ernergy.\n"
     ]
    }
   ],
   "source": [
    "x = Animal(\"Joey\", \"Kangaroo\")\n",
    "x.talk()\n",
    "x.sleep()\n",
    "x.run()\n",
    "x.jump()\n",
    "x.eat()\n",
    "x.drink()"
   ]
  }
 ],
 "metadata": {
  "kernelspec": {
   "display_name": "Python 3",
   "language": "python",
   "name": "python3"
  },
  "language_info": {
   "codemirror_mode": {
    "name": "ipython",
    "version": 3
   },
   "file_extension": ".py",
   "mimetype": "text/x-python",
   "name": "python",
   "nbconvert_exporter": "python",
   "pygments_lexer": "ipython3",
   "version": "3.12.5"
  }
 },
 "nbformat": 4,
 "nbformat_minor": 5
}
